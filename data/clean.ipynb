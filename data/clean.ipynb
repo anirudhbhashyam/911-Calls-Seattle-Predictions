{
 "cells": [
  {
   "cell_type": "code",
   "execution_count": 18,
   "metadata": {},
   "outputs": [
    {
     "name": "stdout",
     "output_type": "stream",
     "text": [
      "Setup complete.\n"
     ]
    }
   ],
   "source": [
    "import os\n",
    "\n",
    "import pandas as pd\n",
    "import numpy as np\n",
    "from sklearn.experimental import enable_iterative_imputer\n",
    "from sklearn.impute import IterativeImputer\n",
    "\n",
    "print(\"Setup complete.\")"
   ]
  },
  {
   "cell_type": "code",
   "execution_count": 19,
   "metadata": {},
   "outputs": [
    {
     "name": "stdout",
     "output_type": "stream",
     "text": [
      "Raw data loaded.\n"
     ]
    }
   ],
   "source": [
    "path = os.path.relpath(\"./raw\")\n",
    "file = \"raw_reduced_7_years\"\n",
    "ext = \"csv\"\n",
    "\n",
    "raw_data = pd.read_csv(os.path.join(path, \".\".join([file, ext])), parse_dates = [\"Date\", \"Time\"])\n",
    "print(\"Raw data loaded.\")"
   ]
  },
  {
   "cell_type": "code",
   "execution_count": 3,
   "metadata": {},
   "outputs": [],
   "source": [
    "# Convert features to datetime and get day of year.\n",
    "# raw_data[\"Date\"] = pd.to_datetime(raw_data[\"Date\"])\n",
    "# raw_data[\"Time\"] = pd.to_datetime(raw_data[\"Time\"], format = \"%H:%M:%S\")\n",
    "raw_data[\"day_of_year\"] = raw_data[\"Date\"].dt.day_of_year\n",
    "raw_data[\"hour\"] = raw_data[\"Time\"].dt.hour "
   ]
  },
  {
   "cell_type": "code",
   "execution_count": 4,
   "metadata": {},
   "outputs": [],
   "source": [
    "# Drop unnecessary columns.\n",
    "columns_to_drop = [\"Incident_Number\", \"Report_Location\", \"Address\", \"Type\"]\n",
    "data = raw_data.drop(columns = columns_to_drop)"
   ]
  },
  {
   "cell_type": "code",
   "execution_count": 5,
   "metadata": {},
   "outputs": [],
   "source": [
    "action = \"impute\"\n",
    "\n",
    "if action == \"all\":\n",
    "\tdata.dropna(inplace = True)\n",
    "elif action == \"impute\":\n",
    "\tcolumns_to_impute = list(data.isna().any()[data.isna().any()].index)\n",
    "\timp = IterativeImputer(max_iter = 20, random_state = 26)\n",
    "\timp.fit(data[columns_to_impute])\n",
    "\tnew_data = pd.DataFrame(imp.transform(data[columns_to_impute]), columns = columns_to_impute)\n",
    "\tdata.drop(columns = columns_to_impute)\n",
    "\tdata[columns_to_impute] = new_data\n",
    "elif action == \"mean replace\":\n",
    "\tdata_filled = data.fillna(data.mean())\n",
    "else:\n",
    "\tprint(\"Select specific action.\")\n",
    "\t"
   ]
  },
  {
   "cell_type": "code",
   "execution_count": 6,
   "metadata": {},
   "outputs": [],
   "source": [
    "def origin_haversine(coord: tuple, degrees = True) -> float:\n",
    "    \"\"\"\n",
    "    Calculates the Haversine the point `(latitude, longitude)` and `(0, 0)`.\n",
    "    \n",
    "    Parameters\n",
    "    ----------\n",
    "    coord:\n",
    "        The coordinates specified as `(latitude, longitude)` either in degrees or radians.\n",
    "    degrees:\n",
    "        If true converts coordinates from (assumed) degrees to radians.\n",
    "        \n",
    "    Returns\n",
    "    -------\n",
    "    float:\n",
    "        The distance.\n",
    "    \"\"\"\n",
    "    lat, lng = coord\n",
    "    \n",
    "\t# Earth's radius in km.\n",
    "    r = 6371 \n",
    "\n",
    "    # Convert decimal degrees to radians, if needed.\n",
    "    if degrees:\n",
    "        lat, lng = map(np.radians, [lat, lng])\n",
    "\n",
    "    # Harvesine distance between (0, 0) and (lat, long)\n",
    "    a = np.sin(lat / 2) ** 2 + np.cos(lat) * np.sin(lng / 2) ** 2\n",
    "    d = 2 * r * np.arcsin(np.sqrt(a)) \n",
    "\n",
    "    return d\n",
    "\n",
    "HAVERSINE_FEATURE = False\n",
    "\n",
    "if HAVERSINE_FEATURE:\n",
    "    data[\"latlong_combined\"] = [origin_haversine((lat, lng)) for lat, lng in zip(data.Latitude, data.Longitude)]\n",
    "    data_haversine = data.drop(columns = [\"Latitude\", \"Longitude\"])"
   ]
  },
  {
   "cell_type": "code",
   "execution_count": 7,
   "metadata": {},
   "outputs": [],
   "source": [
    "def create_main_data(data: pd.DataFrame, date: str, time_groups: list):\n",
    "\t\"\"\"\n",
    "\tSplits the dataframe `data` by year using the date column `date`. Groups by the specified time groups (eg: `year_of_day` and `hour`), averages the latitudes and longitudes.\n",
    "\t\n",
    "\tParameters\n",
    "\t----------\n",
    "\tdata:\n",
    "\t\tThe data to be processed.\n",
    "  \n",
    "\tdate:\n",
    "\t\tColumn name of the date column in `data`.\n",
    "  \n",
    "\tReturns\n",
    "\t-------\n",
    "\tlist:\n",
    "\t\tA list of dataframes.\n",
    "\t\"\"\"\n",
    "\tyear_frames = [data[data[date].dt.year == y] for y in data[date].dt.year.unique()]\n",
    "\tprint(data[date].dt.year.unique())\n",
    "\tmain_frames = list()\n",
    "\tfor df in year_frames:\n",
    "\t\td_temp = df.groupby(time_groups)\\\n",
    "\t\t\t.agg({\n",
    "\t\t\t\t\tdate: [\"count\"],\n",
    "\t\t\t\t\t\"Latitude\": [\"mean\"],\n",
    "\t\t\t\t\t\"Longitude\": [\"mean\"]\n",
    "\t\t\t})\\\n",
    "\t\t\t.reset_index(time_groups)\\\n",
    "\t\t\t.sort_values(time_groups)\n",
    "   \n",
    "\t\td_temp.rename(columns = {date: \"calls\"}, inplace = True)\n",
    "\t\td_temp.columns = d_temp.columns.droplevel(1)\n",
    "\t\tmain_frames.append(d_temp)\n",
    "\treturn main_frames"
   ]
  },
  {
   "cell_type": "code",
   "execution_count": 8,
   "metadata": {},
   "outputs": [
    {
     "name": "stdout",
     "output_type": "stream",
     "text": [
      "[2015 2016 2017 2018 2019 2020 2021 2022]\n"
     ]
    }
   ],
   "source": [
    "main_frames = create_main_data(data, \"Date\", [\"day_of_year\", \"hour\"])"
   ]
  },
  {
   "cell_type": "code",
   "execution_count": 10,
   "metadata": {},
   "outputs": [],
   "source": [
    "final_data_mean = pd.concat(main_frames[:-1], ignore_index = True)\n",
    "final_data_test_mean = main_frames[-1]"
   ]
  },
  {
   "cell_type": "code",
   "execution_count": 24,
   "metadata": {},
   "outputs": [],
   "source": [
    "path_to_save = os.path.relpath(\"./train-test\")\n",
    "final_data_mean.to_csv(os.path.join(path_to_save, \".\".join([\"data_yearly_hourly_train\", \"csv\"])), index = False)\n",
    "final_data_test_mean.to_csv(os.path.join(path_to_save, \".\".join([\"data_yearly_hourly_test\", \"csv\"])), index = False)"
   ]
  },
  {
   "cell_type": "code",
   "execution_count": 23,
   "metadata": {},
   "outputs": [
    {
     "data": {
      "text/plain": [
       "46"
      ]
     },
     "execution_count": 23,
     "metadata": {},
     "output_type": "execute_result"
    }
   ],
   "source": [
    "len(np.unique(final_data_mean[\"calls\"]))"
   ]
  },
  {
   "cell_type": "code",
   "execution_count": 26,
   "metadata": {},
   "outputs": [
    {
     "data": {
      "text/html": [
       "<div>\n",
       "<style scoped>\n",
       "    .dataframe tbody tr th:only-of-type {\n",
       "        vertical-align: middle;\n",
       "    }\n",
       "\n",
       "    .dataframe tbody tr th {\n",
       "        vertical-align: top;\n",
       "    }\n",
       "\n",
       "    .dataframe thead th {\n",
       "        text-align: right;\n",
       "    }\n",
       "</style>\n",
       "<table border=\"1\" class=\"dataframe\">\n",
       "  <thead>\n",
       "    <tr style=\"text-align: right;\">\n",
       "      <th></th>\n",
       "      <th>day_of_year</th>\n",
       "      <th>hour</th>\n",
       "      <th>calls</th>\n",
       "      <th>Latitude</th>\n",
       "      <th>Longitude</th>\n",
       "    </tr>\n",
       "  </thead>\n",
       "  <tbody>\n",
       "    <tr>\n",
       "      <th>0</th>\n",
       "      <td>33</td>\n",
       "      <td>12</td>\n",
       "      <td>19</td>\n",
       "      <td>47.602161</td>\n",
       "      <td>-122.331446</td>\n",
       "    </tr>\n",
       "    <tr>\n",
       "      <th>1</th>\n",
       "      <td>33</td>\n",
       "      <td>13</td>\n",
       "      <td>20</td>\n",
       "      <td>47.614256</td>\n",
       "      <td>-122.341655</td>\n",
       "    </tr>\n",
       "    <tr>\n",
       "      <th>2</th>\n",
       "      <td>33</td>\n",
       "      <td>14</td>\n",
       "      <td>15</td>\n",
       "      <td>47.640749</td>\n",
       "      <td>-122.328970</td>\n",
       "    </tr>\n",
       "    <tr>\n",
       "      <th>3</th>\n",
       "      <td>33</td>\n",
       "      <td>15</td>\n",
       "      <td>9</td>\n",
       "      <td>47.620303</td>\n",
       "      <td>-122.331749</td>\n",
       "    </tr>\n",
       "    <tr>\n",
       "      <th>4</th>\n",
       "      <td>33</td>\n",
       "      <td>16</td>\n",
       "      <td>15</td>\n",
       "      <td>47.619608</td>\n",
       "      <td>-122.323381</td>\n",
       "    </tr>\n",
       "    <tr>\n",
       "      <th>...</th>\n",
       "      <td>...</td>\n",
       "      <td>...</td>\n",
       "      <td>...</td>\n",
       "      <td>...</td>\n",
       "      <td>...</td>\n",
       "    </tr>\n",
       "    <tr>\n",
       "      <th>60465</th>\n",
       "      <td>365</td>\n",
       "      <td>19</td>\n",
       "      <td>11</td>\n",
       "      <td>47.602736</td>\n",
       "      <td>-122.327494</td>\n",
       "    </tr>\n",
       "    <tr>\n",
       "      <th>60466</th>\n",
       "      <td>365</td>\n",
       "      <td>20</td>\n",
       "      <td>14</td>\n",
       "      <td>47.617627</td>\n",
       "      <td>-122.331832</td>\n",
       "    </tr>\n",
       "    <tr>\n",
       "      <th>60467</th>\n",
       "      <td>365</td>\n",
       "      <td>21</td>\n",
       "      <td>10</td>\n",
       "      <td>47.636225</td>\n",
       "      <td>-122.337357</td>\n",
       "    </tr>\n",
       "    <tr>\n",
       "      <th>60468</th>\n",
       "      <td>365</td>\n",
       "      <td>22</td>\n",
       "      <td>19</td>\n",
       "      <td>47.595027</td>\n",
       "      <td>-122.340481</td>\n",
       "    </tr>\n",
       "    <tr>\n",
       "      <th>60469</th>\n",
       "      <td>365</td>\n",
       "      <td>23</td>\n",
       "      <td>15</td>\n",
       "      <td>47.603797</td>\n",
       "      <td>-122.330718</td>\n",
       "    </tr>\n",
       "  </tbody>\n",
       "</table>\n",
       "<p>60470 rows × 5 columns</p>\n",
       "</div>"
      ],
      "text/plain": [
       "       day_of_year  hour  calls   Latitude   Longitude\n",
       "0               33    12     19  47.602161 -122.331446\n",
       "1               33    13     20  47.614256 -122.341655\n",
       "2               33    14     15  47.640749 -122.328970\n",
       "3               33    15      9  47.620303 -122.331749\n",
       "4               33    16     15  47.619608 -122.323381\n",
       "...            ...   ...    ...        ...         ...\n",
       "60465          365    19     11  47.602736 -122.327494\n",
       "60466          365    20     14  47.617627 -122.331832\n",
       "60467          365    21     10  47.636225 -122.337357\n",
       "60468          365    22     19  47.595027 -122.340481\n",
       "60469          365    23     15  47.603797 -122.330718\n",
       "\n",
       "[60470 rows x 5 columns]"
      ]
     },
     "execution_count": 26,
     "metadata": {},
     "output_type": "execute_result"
    }
   ],
   "source": [
    "final_data_mean"
   ]
  },
  {
   "cell_type": "code",
   "execution_count": null,
   "metadata": {},
   "outputs": [],
   "source": []
  }
 ],
 "metadata": {
  "interpreter": {
   "hash": "eb47dbff9c9e2c29d46d2245b140af8eba2cc8bb4f84d6e29ba35904f7ea7f22"
  },
  "kernelspec": {
   "display_name": "Python 3.10.0 64-bit ('base-new': conda)",
   "language": "python",
   "name": "python3"
  },
  "language_info": {
   "codemirror_mode": {
    "name": "ipython",
    "version": 3
   },
   "file_extension": ".py",
   "mimetype": "text/x-python",
   "name": "python",
   "nbconvert_exporter": "python",
   "pygments_lexer": "ipython3",
   "version": "3.8.8"
  },
  "orig_nbformat": 4
 },
 "nbformat": 4,
 "nbformat_minor": 2
}
